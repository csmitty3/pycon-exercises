{
 "cells": [
  {
   "cell_type": "code",
   "execution_count": 1,
   "id": "5f3f1b45",
   "metadata": {},
   "outputs": [],
   "source": [
    "import feedparser\n",
    "import pandas as pd"
   ]
  },
  {
   "cell_type": "code",
   "execution_count": 23,
   "id": "28affb50",
   "metadata": {},
   "outputs": [],
   "source": [
    "RSS_URL = 'https://usa.newonnetflix.info/feed'"
   ]
  },
  {
   "cell_type": "code",
   "execution_count": 24,
   "id": "ce58b5e9",
   "metadata": {},
   "outputs": [],
   "source": [
    "feed = feedparser.parse(RSS_URL)"
   ]
  },
  {
   "cell_type": "code",
   "execution_count": 4,
   "id": "1428e27e",
   "metadata": {},
   "outputs": [
    {
     "data": {
      "text/plain": [
       "feedparser.util.FeedParserDict"
      ]
     },
     "execution_count": 4,
     "metadata": {},
     "output_type": "execute_result"
    }
   ],
   "source": [
    "type(feed)"
   ]
  },
  {
   "cell_type": "code",
   "execution_count": 5,
   "id": "fa36eb09",
   "metadata": {},
   "outputs": [
    {
     "data": {
      "text/plain": [
       "dict_keys(['bozo', 'entries', 'feed', 'headers', 'href', 'status', 'encoding', 'bozo_exception', 'version', 'namespaces'])"
      ]
     },
     "execution_count": 5,
     "metadata": {},
     "output_type": "execute_result"
    }
   ],
   "source": [
    "feed.keys()"
   ]
  },
  {
   "cell_type": "code",
   "execution_count": 6,
   "id": "9b03af2c",
   "metadata": {},
   "outputs": [
    {
     "data": {
      "text/plain": [
       "int"
      ]
     },
     "execution_count": 6,
     "metadata": {},
     "output_type": "execute_result"
    }
   ],
   "source": [
    "type(feed.bozo)"
   ]
  },
  {
   "cell_type": "code",
   "execution_count": 7,
   "id": "a5c01ea3",
   "metadata": {},
   "outputs": [
    {
     "data": {
      "text/plain": [
       "feedparser.util.FeedParserDict"
      ]
     },
     "execution_count": 7,
     "metadata": {},
     "output_type": "execute_result"
    }
   ],
   "source": [
    "type(feed.feed)"
   ]
  },
  {
   "cell_type": "code",
   "execution_count": 12,
   "id": "ec97e097",
   "metadata": {},
   "outputs": [
    {
     "data": {
      "text/plain": [
       "''"
      ]
     },
     "execution_count": 12,
     "metadata": {},
     "output_type": "execute_result"
    }
   ],
   "source": [
    "feed.version"
   ]
  },
  {
   "cell_type": "code",
   "execution_count": 13,
   "id": "44d63678",
   "metadata": {},
   "outputs": [
    {
     "name": "stdout",
     "output_type": "stream",
     "text": [
      "Trouble ahead\n"
     ]
    }
   ],
   "source": [
    "if feed.bozo == 0:\n",
    "    print(\"Well formed feed.\")\n",
    "else:\n",
    "    print(\"Trouble ahead\")"
   ]
  },
  {
   "cell_type": "code",
   "execution_count": 14,
   "id": "0c0149d3",
   "metadata": {},
   "outputs": [
    {
     "data": {
      "text/plain": [
       "dict_keys([])"
      ]
     },
     "execution_count": 14,
     "metadata": {},
     "output_type": "execute_result"
    }
   ],
   "source": [
    "feed.feed.keys()"
   ]
  },
  {
   "cell_type": "code",
   "execution_count": 28,
   "id": "bbd1a3dd",
   "metadata": {},
   "outputs": [
    {
     "data": {
      "text/plain": [
       "'Sun, 09 Oct 2022 01:07:09 -0400'"
      ]
     },
     "execution_count": 28,
     "metadata": {},
     "output_type": "execute_result"
    }
   ],
   "source": [
    "feed.feed.published"
   ]
  },
  {
   "cell_type": "code",
   "execution_count": 26,
   "id": "bc71cd08",
   "metadata": {},
   "outputs": [
    {
     "data": {
      "text/plain": [
       "'Sun, 09 Oct 2022 01:07:09 -0400'"
      ]
     },
     "execution_count": 26,
     "metadata": {},
     "output_type": "execute_result"
    }
   ],
   "source": [
    "feed.feed.get('published', 'N/A')"
   ]
  },
  {
   "cell_type": "code",
   "execution_count": 25,
   "id": "49be2c3c",
   "metadata": {},
   "outputs": [
    {
     "data": {
      "text/plain": [
       "29"
      ]
     },
     "execution_count": 25,
     "metadata": {},
     "output_type": "execute_result"
    }
   ],
   "source": [
    "len(feed.entries)"
   ]
  },
  {
   "cell_type": "code",
   "execution_count": 29,
   "id": "b4ce56fe",
   "metadata": {},
   "outputs": [
    {
     "data": {
      "text/plain": [
       "'9th Oct: Missing Link (2019), 1hr 34m [PG] (6.35/10)'"
      ]
     },
     "execution_count": 29,
     "metadata": {},
     "output_type": "execute_result"
    }
   ],
   "source": [
    "feed.entries[0].title"
   ]
  },
  {
   "cell_type": "code",
   "execution_count": 33,
   "id": "b4dbd70d",
   "metadata": {},
   "outputs": [
    {
     "name": "stdout",
     "output_type": "stream",
     "text": [
      "1 -- 9th Oct: Missing Link (2019), 1hr 34m [PG] (6.35/10)\n",
      "2 -- 8th Oct: Bad Guys (2022), 12 Episodes [TV-MA] (6.9/10)\n",
      "3 -- 7th Oct: Conversations with a Killer: The Jeffrey Dahmer Tapes (2022), Limited Series [TV-MA] (6/10)\n",
      "4 -- 7th Oct: Doll House (2022), 1hr 46m [TV-MA] (6/10)\n",
      "5 -- 7th Oct: Glitch (2022), 10 Episodes [TV-MA] (6/10)\n",
      "6 -- 7th Oct: Kev Adams: The Real Me (2022), 1hr [TV-MA] (6/10)\n",
      "7 -- 7th Oct: Luckiest Girl Alive (2022), 1hr 55m [R] (6/10)\n",
      "8 -- 7th Oct: Man on Pause (2022), 6 Episodes [TV-MA] (6/10)\n",
      "9 -- 7th Oct: The Midnight Club (2022), 10 Episodes [TV-MA] (6/10)\n",
      "10 -- 7th Oct: The Mole (2022), 10 Episodes [TV-MA] (6/10)\n",
      "11 -- 7th Oct: Oddballs (2022), 12 Episodes [TV-Y] (6/10)\n",
      "12 -- 7th Oct: Old People (2022), 1hr 41m [TV-MA] (6.2/10)\n",
      "13 -- 7th Oct: The Redeem Team (2022), 1hr 38m [TV-MA] (6/10)\n",
      "14 -- 7th Oct: Derry Girls (2020), 3 Seasons [TV-MA] - New Episodes (7.25/10)\n",
      "15 -- 6th Oct: Dongalunnaru Jagratha (2022), 1hr 36m [TV-MA] (6/10)\n",
      "16 -- 6th Oct: Missing Home (2022), 1hr 53m [TV-PG] (7.25/10)\n",
      "17 -- 6th Oct: Aftershock: Everest and the Nepal Earthquake (2022), 3 Episodes [TV-MA] (6/10)\n",
      "18 -- 6th Oct: The Joys and Sorrows of Young Yuguo (2022), 28m [PG] (6/10)\n",
      "19 -- 6th Oct: The Blacklist (2021), 9 Seasons [TV-14] - New Episodes (7/10)\n",
      "20 -- 5th Oct: Laal Singh Chaddha (2022), 2hr 37m [PG-13] (5.5/10)\n",
      "21 -- 5th Oct: Oru Thekkan Thallu Case (2022), 2hr 31m [TV-14] (7.1/10)\n",
      "22 -- 5th Oct: The Fight for Justice: Paolo Guerrero (2022), 6 Episodes [TV-MA] (6/10)\n",
      "23 -- 5th Oct: High Water (2022), 6 Episodes [TV-MA] (6/10)\n",
      "24 -- 5th Oct: Jumping from High Places (2022), 1hr 28m [TV-14] (6/10)\n",
      "25 -- 5th Oct: Mr. Harrigan's Phone (2022), 1hr 46m [PG-13] (6/10)\n",
      "26 -- 5th Oct: Togo (2022), 1hr 35m [TV-MA] (6/10)\n",
      "27 -- 5th Oct: The Trapped 13: How We Survived The Thai Cave (2022), 1hr 43m [TV-14] (6/10)\n",
      "28 -- 5th Oct: Bling Empire (2022), 3 Seasons [TV-MA] - New Episodes (5.9/10)\n",
      "29 -- 5th Oct: Nailed It! (2022), 7 Seasons [TV-PG] - New Episodes (6.7/10)\n"
     ]
    }
   ],
   "source": [
    "i = 1\n",
    "for f in feed.entries:\n",
    "    print(i , '--' , feed.entries[(i-1)].title)\n",
    "    i += 1\n"
   ]
  },
  {
   "cell_type": "code",
   "execution_count": 54,
   "id": "45dbc919",
   "metadata": {},
   "outputs": [],
   "source": [
    "df = pd.DataFrame(feed.entries)"
   ]
  },
  {
   "cell_type": "code",
   "execution_count": 55,
   "id": "6581e9d2",
   "metadata": {},
   "outputs": [
    {
     "name": "stdout",
     "output_type": "stream",
     "text": [
      "Index(['title', 'title_detail', 'links', 'link', 'summary', 'summary_detail',\n",
      "       'published', 'published_parsed', 'id', 'guidislink'],\n",
      "      dtype='object')\n"
     ]
    }
   ],
   "source": [
    "print(df.columns)"
   ]
  },
  {
   "cell_type": "code",
   "execution_count": 58,
   "id": "f4f39dca",
   "metadata": {},
   "outputs": [
    {
     "name": "stdout",
     "output_type": "stream",
     "text": [
      "[1, 2, 3, 4, 5, 6, 7, 8, 9, 10, 11, 12, 13, 14, 15, 16, 17, 18, 19, 20, 21, 22, 23, 24, 25, 26, 27, 28, 29]\n"
     ]
    }
   ],
   "source": [
    "#feed, date, ranking, title, link, summary\n",
    "rank = []\n",
    "for i in range(len(feed.entries)):\n",
    "    rank.append(i + 1)\n",
    "print(rank)"
   ]
  },
  {
   "cell_type": "code",
   "execution_count": 59,
   "id": "b6c10c16",
   "metadata": {},
   "outputs": [],
   "source": [
    "df['rank'] = rank"
   ]
  },
  {
   "cell_type": "code",
   "execution_count": 61,
   "id": "16ce7c46",
   "metadata": {},
   "outputs": [],
   "source": [
    "df['feed'] = 'https://usa.newonnetflix.info/feed'"
   ]
  },
  {
   "cell_type": "code",
   "execution_count": 64,
   "id": "237b83c5",
   "metadata": {},
   "outputs": [],
   "source": [
    "newdf = df[['rank', 'title', 'summary', 'link', 'published', 'feed']]"
   ]
  },
  {
   "cell_type": "code",
   "execution_count": 69,
   "id": "25a6847e",
   "metadata": {},
   "outputs": [],
   "source": [
    "newdf.to_csv('movie_list.csv', header= newdf.columns, index=False)"
   ]
  },
  {
   "cell_type": "code",
   "execution_count": 67,
   "id": "f5323c09",
   "metadata": {},
   "outputs": [
    {
     "name": "stdout",
     "output_type": "stream",
     "text": [
      "Index(['rank', 'title', 'summary', 'link', 'published', 'feed'], dtype='object')\n"
     ]
    }
   ],
   "source": [
    "headers = newdf.columns\n",
    "print(headers)"
   ]
  },
  {
   "cell_type": "code",
   "execution_count": null,
   "id": "4e0db7b1",
   "metadata": {},
   "outputs": [],
   "source": []
  }
 ],
 "metadata": {
  "kernelspec": {
   "display_name": "Python 3 (ipykernel)",
   "language": "python",
   "name": "python3"
  },
  "language_info": {
   "codemirror_mode": {
    "name": "ipython",
    "version": 3
   },
   "file_extension": ".py",
   "mimetype": "text/x-python",
   "name": "python",
   "nbconvert_exporter": "python",
   "pygments_lexer": "ipython3",
   "version": "3.10.6"
  }
 },
 "nbformat": 4,
 "nbformat_minor": 5
}
