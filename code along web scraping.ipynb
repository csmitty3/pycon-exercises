{
 "cells": [
  {
   "cell_type": "code",
   "execution_count": 2,
   "id": "ab2559e3",
   "metadata": {},
   "outputs": [],
   "source": [
    "#import packages needed\n",
    "from bs4 import BeautifulSoup as soup\n",
    "from urllib.request import urlopen as uReq"
   ]
  },
  {
   "cell_type": "code",
   "execution_count": 17,
   "id": "16780e68",
   "metadata": {},
   "outputs": [],
   "source": [
    "my_url = 'https://www.newegg.com/p/pl?d=graphics+card&page=1'"
   ]
  },
  {
   "cell_type": "code",
   "execution_count": 18,
   "id": "f0c001bb",
   "metadata": {},
   "outputs": [],
   "source": [
    "uClient = uReq(my_url)"
   ]
  },
  {
   "cell_type": "code",
   "execution_count": 19,
   "id": "c2981214",
   "metadata": {},
   "outputs": [],
   "source": [
    "page_html = uClient.read()\n",
    "uClient.close()"
   ]
  },
  {
   "cell_type": "code",
   "execution_count": 20,
   "id": "64c29950",
   "metadata": {},
   "outputs": [],
   "source": [
    "#html parsing\n",
    "page_soup = soup(page_html, \"html.parser\")"
   ]
  },
  {
   "cell_type": "code",
   "execution_count": 21,
   "id": "a3fc8ce3",
   "metadata": {},
   "outputs": [
    {
     "data": {
      "text/plain": [
       "<h1 class=\"page-title-text\">\"<span class=\"limit-string\" style=\"max-width:100%\">graphics card</span>\"</h1>"
      ]
     },
     "execution_count": 21,
     "metadata": {},
     "output_type": "execute_result"
    }
   ],
   "source": [
    "page_soup.h1"
   ]
  },
  {
   "cell_type": "code",
   "execution_count": 7,
   "id": "08b0981a",
   "metadata": {},
   "outputs": [
    {
     "data": {
      "text/plain": [
       "<p>You’re seeing this ad based on the product’s relevance to your search query. If you are a seller and want toparticipate in this program click here to <a class=\"link-blue\" href=\"https://www.newegg.com/sellers/index.php/marketing-sponsored-product-ads/\">learn more</a>.</p>"
      ]
     },
     "execution_count": 7,
     "metadata": {},
     "output_type": "execute_result"
    }
   ],
   "source": [
    "page_soup.p"
   ]
  },
  {
   "cell_type": "code",
   "execution_count": 8,
   "id": "bdfb2c93",
   "metadata": {},
   "outputs": [
    {
     "data": {
      "text/plain": [
       "<span class=\"header2021-info-nowrap header2021-info-min\"></span>"
      ]
     },
     "execution_count": 8,
     "metadata": {},
     "output_type": "execute_result"
    }
   ],
   "source": [
    "page_soup.body.span"
   ]
  },
  {
   "cell_type": "code",
   "execution_count": 22,
   "id": "d8e05535",
   "metadata": {},
   "outputs": [],
   "source": [
    "containers = page_soup.findAll(\"div\", {\"class\": \"item-cell\"})"
   ]
  },
  {
   "cell_type": "code",
   "execution_count": null,
   "id": "aa1df11f",
   "metadata": {},
   "outputs": [],
   "source": []
  },
  {
   "cell_type": "code",
   "execution_count": 23,
   "id": "52215329",
   "metadata": {},
   "outputs": [
    {
     "data": {
      "text/plain": [
       "<div class=\"item-branding\"><a class=\"item-brand\" href=\"https://www.newegg.com/yeston/BrandStore/ID-203181\"><img alt=\"yeston\" src=\"https://c1.neweggimages.com/Brandimage_70x28/Brand203181.gif\" title=\"yeston\"/></a><a class=\"item-rating\" href=\"https://www.newegg.com/yeston-geforce-rtx-3060-ti-rtx-3060ti/p/1FT-007N-00068?IsFeedbackTab=true&amp;cm_sp=SP-_-967331-_-0-_-2-_-9SIAZUEHCK6637-_-graphics card-_-card|graphic-_-1#scrollFullInfo\" rel=\"nofollow\" title=\"Rating + 4.3\"><i aria-label=\"rated 4.3 out of 5\" class=\"rating rating-4-5\"></i><span class=\"item-rating-num\">(3)</span></a></div>"
      ]
     },
     "execution_count": 23,
     "metadata": {},
     "output_type": "execute_result"
    }
   ],
   "source": [
    "thecontainer = containers[0].div\n",
    "thecontainer\n",
    "item_info = thecontainer.findAll(\"div\", {\"class\": \"item-info\"})\n",
    "item_info[0].div"
   ]
  },
  {
   "cell_type": "code",
   "execution_count": 24,
   "id": "12c336cf",
   "metadata": {},
   "outputs": [],
   "source": [
    "thetitle = item_info[0].div.a.img[\"title\"]"
   ]
  },
  {
   "cell_type": "code",
   "execution_count": 25,
   "id": "60341ff4",
   "metadata": {},
   "outputs": [
    {
     "data": {
      "text/plain": [
       "'Yeston RTX 3060 12GB GDDR6 LHR Graphics cards Nvidia pci express x16 4.0 video cards Desktop computer PC video gaming graphics card'"
      ]
     },
     "execution_count": 25,
     "metadata": {},
     "output_type": "execute_result"
    }
   ],
   "source": [
    "atag = item_info[0].findAll(\"a\", {\"class\": \"item-title\"})\n",
    "atag[0].text"
   ]
  },
  {
   "cell_type": "code",
   "execution_count": 26,
   "id": "1ddb7a28",
   "metadata": {},
   "outputs": [
    {
     "data": {
      "text/plain": [
       "'Free Shipping'"
      ]
     },
     "execution_count": 26,
     "metadata": {},
     "output_type": "execute_result"
    }
   ],
   "source": [
    "shipping_info = thecontainer.findAll(\"li\", {\"class\": \"price-ship\"})[0].text\n",
    "shipping_info"
   ]
  },
  {
   "cell_type": "code",
   "execution_count": null,
   "id": "0f2beb5a",
   "metadata": {},
   "outputs": [],
   "source": []
  },
  {
   "cell_type": "code",
   "execution_count": 27,
   "id": "768451a7",
   "metadata": {},
   "outputs": [
    {
     "data": {
      "text/plain": [
       "'yeston'"
      ]
     },
     "execution_count": 27,
     "metadata": {},
     "output_type": "execute_result"
    }
   ],
   "source": [
    "containers = page_soup.findAll(\"div\", {\"class\": \"item-cell\"})\n",
    "item_info = containers[0].div.findAll(\"div\", {\"class\": \"item-info\"})\n",
    "thetitle = item_info[0].div.a.img[\"title\"]\n",
    "thetitle"
   ]
  },
  {
   "cell_type": "code",
   "execution_count": 14,
   "id": "821c78f3",
   "metadata": {},
   "outputs": [
    {
     "name": "stdout",
     "output_type": "stream",
     "text": [
      "yeston\n",
      "Free Shipping\n",
      "Yeston RTX 3060 12GB GDDR6 LHR Graphics cards Nvidia pci express x16 4.0 video cards Desktop computer PC video gaming graphics card\n",
      "XFX\n",
      "$4.69 Shipping\n",
      "XFX Speedster SWFT 319 Radeon RX 6900 XT 16GB GDDR6 PCI Express 4.0 Video Card RX-69XTAQFD9\n",
      "yeston\n",
      "Free Shipping\n",
      "Yeston RTX 3080 10GB GDDR6X 320bit LHR Graphics cards Nvidia pci express x16 4.0 HDMI 2.1*1 + DP1.4a*3 video cards Desktop computer PC video gaming graphics card\n",
      "GIGABYTE\n",
      "Free Shipping\n",
      "GIGABYTE Eagle OC GeForce RTX 3060 12GB GDDR6 PCI Express 4.0 ATX Video Card GV-N3060EAGLE OC-12GD (rev. 2.0) (LHR)\n",
      "GIGABYTE\n",
      "Free Shipping\n",
      "GIGABYTE GeForce GT 730 DirectX 12 GV-N730D5-2GL 2GB 64-Bit GDDR5 PCI Express 2.0 x8 Video Card\n",
      "MSI\n",
      "Free Shipping\n",
      "MSI Gaming GeForce RTX 3090 Ti Gaming X Trio OC Graphics Card 24GB GDRR6X 384-Bit Tri-Frozr Ampere Architecture 1x HDMI 2.1 3x DisplayPort 1.4a w/ MT HDMI Cable\n",
      "GIGABYTE\n",
      "Free Shipping\n",
      "GIGABYTE GeForce RTX 3050 GAMING OC 8G Graphics Card, 3x WINDFORCE Fans, 8GB GDDR6 128-bit GDDR6, GV-N3050GAMING OC-8GD Video Card\n",
      "ASUS\n",
      "Free Shipping\n",
      "ASUS ROG Strix NVIDIA GeForce RTX 3080 OC Edition Gaming Graphics Card (PCIe 4.0, 12GB GDDR6X, LHR, HDMI 2.1, DisplayPort 1.4a, Axial-tech Fan Design, 2.9-slot, Super Alloy Power II, GPU Tweak II)\n",
      "MSI\n",
      "Free Shipping\n",
      "MSI Gaming GeForce RTX 3090 Ti Gaming X Trio OC Graphics Card 24GB GDRR6X 384-Bit Tri-Frozr Ampere Architecture 1x HDMI 2.1 3x DisplayPort 1.4a w/ MT HDMI 2.1, Anti-Sag RGB Holder\n",
      "ASUS\n",
      "Free Shipping\n",
      "ASUS TUF Gaming GeForce RTX 3080 Ti 12GB GDDR6X PCI Express 4.0 Video Card TUF-RTX3080TI-O12G-GAMING\n",
      "EVGA\n",
      "Free Shipping\n",
      "EVGA GeForce RTX 3070 FTW3 ULTRA GAMING Video Card, 08G-P5-3767-KL, 8GB GDDR6, iCX3 Technology, ARGB LED, Metal Backplate, LHR\n",
      "GIGABYTE\n",
      "Free Shipping\n",
      "GIGABYTE Radeon RX 6600 EAGLE 8G Graphics Card, WINDFORCE 3X Cooling System, 8GB 128-bit GDDR6, GV-R66EAGLE-8GD Video Card\n",
      "yeston\n",
      "Free Shipping\n",
      "Yeston Radeon RX 6500 XT 4GB D6 GDDR6 6nm video cards Desktop computer PC Video Graphics Cards support PCI-Express 4.0 1*DP+1*HDMI-compatible  graphics card\n",
      "GIGABYTE\n",
      "Free Shipping\n",
      "GIGABYTE GeForce GTX 1650 OC 4G Graphics Card, 2 x WINDFORCE Fans, 4GB 128-Bit GDDR5, GV-N1650OC-4GD Video Card\n",
      "GIGABYTE\n",
      "Free Shipping\n",
      "GIGABYTE Gaming OC GeForce RTX 3080 10GB GDDR6X PCI Express 4.0 ATX Video Card GV-N3080GAMING OC-10GD (rev. 2.0) (LHR)\n",
      "MSI\n",
      "Free Shipping\n",
      "MSI Gaming GeForce RTX 3060 12GB GDDR6 PCI Express 4.0 Video Card RTX 3060 Gaming X 12G\n",
      "MSI\n",
      "Free Shipping\n",
      "MSI Ventus GeForce RTX 3060 12GB GDDR6 PCI Express 4.0 Video Card RTX 3060 Ventus 3X 12G OC\n",
      "GIGABYTE\n",
      "Free Shipping\n",
      "GIGABYTE Vision OC GeForce RTX 3070 8GB GDDR6 PCI Express 4.0 ATX Video Card GV-N3070VISION OC-8GD (rev. 2.0) (LHR)\n",
      "GIGABYTE\n",
      "Free Shipping\n",
      "GIGABYTE Vision OC GeForce RTX 3080 10GB GDDR6X PCI Express 4.0 ATX Video Card GV-N3080VISION OC-10GD (rev. 2.0) (LHR)\n",
      "GIGABYTE\n",
      "Free Shipping\n",
      "GIGABYTE Gaming GeForce RTX 3080 Ti 12GB GDDR6X PCI Express 4.0 ATX Video Card GV-N308TGAMING OC-12GD\n",
      "GIGABYTE\n",
      "Free Shipping\n",
      "GIGABYTE Gaming OC GeForce RTX 3060 12GB GDDR6 PCI Express 4.0 ATX Video Card GV-N3060GAMING OC-12GD (rev. 2.0) (LHR)\n",
      "MSI\n",
      "Free Shipping\n",
      "MSI Ventus GeForce RTX 3080 12GB GDDR6X PCI Express 4.0 Video Card RTX 3080 VENTUS 3X PLUS 12G OC LHR\n",
      "MSI\n",
      "Free Shipping\n",
      "MSI Ventus GeForce RTX 3060 12GB GDDR6 PCI Express 4.0 Video Card RTX 3060 Ventus 2X 12G OC\n",
      "ASRock\n",
      "Free Shipping\n",
      "ASRock Radeon RX 6900 XT PHANTOM GAMING D Graphics Card 16GB GDDR6, AMD RDNA2 (RX6900XT PGD 16GO)\n",
      "MSI\n",
      "Free Shipping\n",
      "MSI Ventus GeForce RTX 3050 8GB GDDR6 PCI Express 4.0 Video Card RTX 3050 Ventus 2X 8G OC\n",
      "MSI\n",
      "Free Shipping\n",
      "MSI Ventus GeForce RTX 3060 Ti 8GB GDDR6 PCI Express 4.0 Video Card RTX 3060 Ti VENTUS 2X 8G OCV1 LHR\n",
      "MSI\n",
      "Free Shipping\n",
      "MSI Gaming GeForce RTX 3070 8GB GDDR6 PCI Express 4.0 Video Card 3070 GAMING Z TRIO 8G LHR\n",
      "GIGABYTE\n",
      "Free Shipping\n",
      "GIGABYTE AORUS GeForce RTX 3070 Ti 8GB GDDR6X PCI Express 4.0 ATX Video Card GV-N307TAORUS M-8GD\n",
      "GIGABYTE\n",
      "Free Shipping\n",
      "GIGABYTE Eagle OC GeForce RTX 3070 8GB GDDR6 PCI Express 4.0 ATX Video Card GV-N3070EAGLE OC-8GD (rev. 2.0) (LHR)\n",
      "MSI\n",
      "Free Shipping\n",
      "MSI Gaming GeForce RTX 3080 12GB GDDR6X PCI Express 4.0 ATX Video Card RTX 3080 GAMING Z TRIO 12G LHR\n",
      "GIGABYTE\n",
      "Free Shipping\n",
      "GIGABYTE Gaming OC GeForce RTX 3060 Ti 8GB GDDR6 PCI Express 4.0 ATX Video Card GV-N306TGAMING OC-8GD REV 2.0 (LHR)\n",
      "XFX\n",
      "Free Shipping\n",
      "XFX SPEEDSTER MERC319 AMD Radeon RX 6800 XT CORE Gaming Graphics Card with 16GB GDDR6 HDMI 3 x DP, AMD RDNA 2 (RX-68XTALFD9)\n",
      "MSI\n",
      "Free Shipping\n",
      "MSI Gaming GeForce RTX 3070 Ti 8GB GDDR6X PCI Express 4.0 Video Card RTX 3070 Ti Gaming X Trio 8G\n",
      "EVGA\n",
      "Free Shipping\n",
      "EVGA GeForce RTX 3070 Ti FTW3 ULTRA GAMING Video Card, 08G-P5-3797-KL, 8GB GDDR6X, iCX3 Technology, ARGB LED, Metal Backplate\n",
      "EVGA\n",
      "Free Shipping\n",
      "EVGA GeForce RTX 3080 FTW3 ULTRA GAMING Video Card, 10G-P5-3897-KL, 10GB GDDR6X, iCX3 Technology, ARGB LED, Metal Backplate, LHR\n",
      "ASRock\n",
      "Free Shipping\n",
      "ASRock Radeon RX 6700 XT Challenger D Gaming Graphic Card, 12GB GDDR6 VRAM, AMD RDNA2 (RX6700XT CLD 12G)\n",
      "GIGABYTE\n",
      "Free Shipping\n",
      "GIGABYTE GeForce RTX 3050 EAGLE OC 8G Graphics Card, 2x WINDFORCE Fans, 8GB GDDR6 128-bit GDDR6, GV-N3050EAGLE OC-8GD Video Card\n",
      "MSI\n",
      "Free Shipping\n",
      "MSI Ventus GeForce RTX 3070 Ti 8GB GDDR6X PCI Express 4.0 Video Card RTX 3070 Ti Ventus 3X 8G OC\n"
     ]
    }
   ],
   "source": [
    "for container in containers:\n",
    "    item_info = container.div.findAll(\"div\", {\"class\": \"item-info\"})\n",
    "    if len(item_info) > 0:\n",
    "        try:\n",
    "            the_title = item_info[0].div.a.img[\"title\"]\n",
    "            print(the_title)\n",
    "            shipping_info = container.div.findAll(\"li\", {\"class\": \"price-ship\"})[0].text\n",
    "            print(shipping_info)\n",
    "            atag = item_info[0].findAll(\"a\", {\"class\": \"item-title\"})[0].text\n",
    "            print(atag)\n",
    "        except TypeError:\n",
    "            pass"
   ]
  },
  {
   "cell_type": "code",
   "execution_count": 40,
   "id": "1c0fc3a1",
   "metadata": {},
   "outputs": [],
   "source": [
    "filename = 'products.csv'\n",
    "f = open(filename, 'w')\n",
    "headers = 'brand, product_name, shipping\\n'\n",
    "f.write(headers)\n",
    "for i in range(1, 101): \n",
    "    my_url = 'https://www.newegg.com/p/pl?d=graphics+card&page=' + str(i)\n",
    "    uClient = uReq(my_url)\n",
    "    page_html = uClient.read()\n",
    "    uClient.close()\n",
    "    page_soup = soup(page_html, \"html.parser\")\n",
    "    containers = page_soup.findAll(\"div\", {\"class\": \"item-cell\"})\n",
    "    for container in containers:\n",
    "        item_info = container.div.findAll(\"div\", {\"class\": \"item-info\"})\n",
    "        if len(item_info) > 0:\n",
    "            try:\n",
    "                the_title = item_info[0].div.a.img[\"title\"]\n",
    "                shipping_info = container.div.findAll(\"li\", {\"class\": \"price-ship\"})[0].text\n",
    "                atag = item_info[0].findAll(\"a\", {\"class\": \"item-title\"})[0].text\n",
    "                f.write(the_title + ',' + atag.replace(\",\", \"|\") + ',' + shipping_info + '\\n')\n",
    "            except Exception as e:\n",
    "                pass\n",
    "f.close()"
   ]
  },
  {
   "cell_type": "code",
   "execution_count": null,
   "id": "54983a24",
   "metadata": {},
   "outputs": [],
   "source": []
  }
 ],
 "metadata": {
  "kernelspec": {
   "display_name": "Python 3 (ipykernel)",
   "language": "python",
   "name": "python3"
  },
  "language_info": {
   "codemirror_mode": {
    "name": "ipython",
    "version": 3
   },
   "file_extension": ".py",
   "mimetype": "text/x-python",
   "name": "python",
   "nbconvert_exporter": "python",
   "pygments_lexer": "ipython3",
   "version": "3.9.7"
  }
 },
 "nbformat": 4,
 "nbformat_minor": 5
}
